{
  "nbformat": 4,
  "nbformat_minor": 0,
  "metadata": {
    "colab": {
      "provenance": [],
      "authorship_tag": "ABX9TyNtkcrpeGv9cU9f2M1PWRUu",
      "include_colab_link": true
    },
    "kernelspec": {
      "name": "python3",
      "display_name": "Python 3"
    },
    "language_info": {
      "name": "python"
    }
  },
  "cells": [
    {
      "cell_type": "markdown",
      "metadata": {
        "id": "view-in-github",
        "colab_type": "text"
      },
      "source": [
        "<a href=\"https://colab.research.google.com/github/SachinPrasanth777/PyTorch/blob/main/FashionMNISTValidationDropout.ipynb\" target=\"_parent\"><img src=\"https://colab.research.google.com/assets/colab-badge.svg\" alt=\"Open In Colab\"/></a>"
      ]
    },
    {
      "cell_type": "code",
      "source": [
        "import torch\n",
        "import numpy as np\n",
        "import matplotlib.pyplot as plt\n",
        "from torch import nn, optim\n",
        "import torch.nn.functional as F"
      ],
      "metadata": {
        "id": "YKGYsw1NwEUg"
      },
      "execution_count": 2,
      "outputs": []
    },
    {
      "cell_type": "code",
      "source": [
        "from torchvision import datasets,transforms\n",
        "transform = transforms.Compose([transforms.ToTensor(),transforms.Normalize((0.5,),(0.5,))])\n",
        "trainset = datasets.FashionMNIST('~/.pytorch/MNIST_data/',download=True,train=True,transform=transform)\n",
        "trainloader = torch.utils.data.DataLoader(trainset,batch_size=64,shuffle=True)\n",
        "testset = datasets.FashionMNIST('~/.pytorch/MNIST_data/',download=True,train=False,transform=transform)\n",
        "testloader = torch.utils.data.DataLoader(testset,batch_size=64,shuffle=True)"
      ],
      "metadata": {
        "id": "BlOlfzRxwcFX"
      },
      "execution_count": 9,
      "outputs": []
    },
    {
      "cell_type": "code",
      "source": [
        "print(len(trainset))\n",
        "print(len(testset))"
      ],
      "metadata": {
        "colab": {
          "base_uri": "https://localhost:8080/"
        },
        "id": "G8rs1jiIxm5o",
        "outputId": "456748e1-a68c-4d72-81bc-f6aa3accedbe"
      },
      "execution_count": 10,
      "outputs": [
        {
          "output_type": "stream",
          "name": "stdout",
          "text": [
            "60000\n",
            "10000\n"
          ]
        }
      ]
    },
    {
      "cell_type": "code",
      "source": [
        "image,label = next(iter(trainloader))\n",
        "print(image.shape)\n",
        "print(label.shape)\n",
        "uniques = trainset.targets\n",
        "print(len(uniques.unique()))"
      ],
      "metadata": {
        "colab": {
          "base_uri": "https://localhost:8080/"
        },
        "id": "kcVvIGwsxqm2",
        "outputId": "ebc72419-b5e8-47e9-de18-c54ae0733985"
      },
      "execution_count": 11,
      "outputs": [
        {
          "output_type": "stream",
          "name": "stdout",
          "text": [
            "torch.Size([64, 1, 28, 28])\n",
            "torch.Size([64])\n",
            "10\n"
          ]
        }
      ]
    },
    {
      "cell_type": "code",
      "source": [
        "class_names = trainset.classes\n",
        "print(class_names)"
      ],
      "metadata": {
        "colab": {
          "base_uri": "https://localhost:8080/"
        },
        "id": "MImwzfDVyONg",
        "outputId": "ecf1436a-7d9b-4739-b860-76817abe5d45"
      },
      "execution_count": 12,
      "outputs": [
        {
          "output_type": "stream",
          "name": "stdout",
          "text": [
            "['T-shirt/top', 'Trouser', 'Pullover', 'Dress', 'Coat', 'Sandal', 'Shirt', 'Sneaker', 'Bag', 'Ankle boot']\n"
          ]
        }
      ]
    },
    {
      "cell_type": "code",
      "source": [
        "class Classifier(nn.Module):\n",
        "  def __init__(self):\n",
        "    super().__init__()\n",
        "    self.fc1 = nn.Linear(784,256)\n",
        "    self.fc2 = nn.Linear(256,128)\n",
        "    self.fc3 = nn.Linear(128,64)\n",
        "    self.fc4 = nn.Linear(64,10)\n",
        "    self.dropout = nn.Dropout(p=0.2)\n",
        "  def forward(self,x):\n",
        "    x = x.view(x.shape[0],-1)\n",
        "    x = self.dropout(F.relu(self.fc1(x)))\n",
        "    x = self.dropout(F.relu(self.fc2(x)))\n",
        "    x = self.dropout(F.relu(self.fc3(x)))\n",
        "    x = F.log_softmax(self.fc4(x),dim=1)\n",
        "    return x"
      ],
      "metadata": {
        "id": "_juQsJw7yUYB"
      },
      "execution_count": 38,
      "outputs": []
    },
    {
      "cell_type": "code",
      "source": [
        "model = Classifier()\n",
        "model"
      ],
      "metadata": {
        "colab": {
          "base_uri": "https://localhost:8080/"
        },
        "id": "tSZxDqEs0KeF",
        "outputId": "b723faea-8f2c-4cfd-89d5-15fa34e4dfac"
      },
      "execution_count": 39,
      "outputs": [
        {
          "output_type": "execute_result",
          "data": {
            "text/plain": [
              "Classifier(\n",
              "  (fc1): Linear(in_features=784, out_features=256, bias=True)\n",
              "  (fc2): Linear(in_features=256, out_features=128, bias=True)\n",
              "  (fc3): Linear(in_features=128, out_features=64, bias=True)\n",
              "  (fc4): Linear(in_features=64, out_features=10, bias=True)\n",
              "  (dropout): Dropout(p=0.2, inplace=False)\n",
              ")"
            ]
          },
          "metadata": {},
          "execution_count": 39
        }
      ]
    },
    {
      "cell_type": "code",
      "source": [
        "criterion = nn.NLLLoss()\n",
        "optimizer = torch.optim.Adam(model.parameters(),lr=0.003)"
      ],
      "metadata": {
        "id": "u64OHAp30NeS"
      },
      "execution_count": 40,
      "outputs": []
    },
    {
      "cell_type": "code",
      "source": [
        "model = Classifier()\n",
        "criterion = nn.NLLLoss()\n",
        "optimizer = optim.Adam(model.parameters(), lr=0.003)\n",
        "\n",
        "epochs = 30\n",
        "steps = 0\n",
        "\n",
        "train_losses, test_losses = [], []\n",
        "for e in range(epochs):\n",
        "    running_loss = 0\n",
        "    for images, labels in trainloader:\n",
        "\n",
        "        optimizer.zero_grad()\n",
        "\n",
        "        log_ps = model(images)\n",
        "        loss = criterion(log_ps, labels)\n",
        "        loss.backward()\n",
        "        optimizer.step()\n",
        "\n",
        "        running_loss += loss.item()\n",
        "\n",
        "    else:\n",
        "        test_loss = 0\n",
        "        accuracy = 0\n",
        "\n",
        "        # Turn off gradients for validation, saves memory and computations\n",
        "        with torch.no_grad():\n",
        "            model.eval()\n",
        "            for images, labels in testloader:\n",
        "                log_ps = model(images)\n",
        "                test_loss += criterion(log_ps, labels)\n",
        "\n",
        "                ps = torch.exp(log_ps)\n",
        "                top_p, top_class = ps.topk(1, dim=1)\n",
        "                equals = top_class == labels.view(*top_class.shape)\n",
        "                accuracy += torch.mean(equals.type(torch.FloatTensor))\n",
        "\n",
        "        model.train()\n",
        "\n",
        "        train_losses.append(running_loss/len(trainloader))\n",
        "        test_losses.append(test_loss/len(testloader))\n",
        "\n",
        "        print(\"Epoch: {}/{}.. \".format(e+1, epochs),\n",
        "              \"Training Loss: {:.3f}.. \".format(train_losses[-1]),\n",
        "              \"Test Loss: {:.3f}.. \".format(test_losses[-1]),\n",
        "              \"Test Accuracy: {:.3f}\".format(accuracy/len(testloader)))"
      ],
      "metadata": {
        "colab": {
          "base_uri": "https://localhost:8080/"
        },
        "id": "V6LzyvZW0qBp",
        "outputId": "be53a9dc-a002-4506-8fcf-a732d9494ea0"
      },
      "execution_count": 41,
      "outputs": [
        {
          "output_type": "stream",
          "name": "stdout",
          "text": [
            "Epoch: 1/30..  Training Loss: 0.611..  Test Loss: 0.520..  Test Accuracy: 0.805\n",
            "Epoch: 2/30..  Training Loss: 0.484..  Test Loss: 0.473..  Test Accuracy: 0.838\n",
            "Epoch: 3/30..  Training Loss: 0.462..  Test Loss: 0.420..  Test Accuracy: 0.848\n",
            "Epoch: 4/30..  Training Loss: 0.432..  Test Loss: 0.420..  Test Accuracy: 0.853\n",
            "Epoch: 5/30..  Training Loss: 0.428..  Test Loss: 0.395..  Test Accuracy: 0.860\n",
            "Epoch: 6/30..  Training Loss: 0.411..  Test Loss: 0.396..  Test Accuracy: 0.859\n",
            "Epoch: 7/30..  Training Loss: 0.404..  Test Loss: 0.415..  Test Accuracy: 0.854\n",
            "Epoch: 8/30..  Training Loss: 0.400..  Test Loss: 0.398..  Test Accuracy: 0.857\n",
            "Epoch: 9/30..  Training Loss: 0.393..  Test Loss: 0.401..  Test Accuracy: 0.858\n",
            "Epoch: 10/30..  Training Loss: 0.387..  Test Loss: 0.425..  Test Accuracy: 0.858\n",
            "Epoch: 11/30..  Training Loss: 0.384..  Test Loss: 0.399..  Test Accuracy: 0.864\n",
            "Epoch: 12/30..  Training Loss: 0.384..  Test Loss: 0.384..  Test Accuracy: 0.869\n",
            "Epoch: 13/30..  Training Loss: 0.380..  Test Loss: 0.396..  Test Accuracy: 0.861\n",
            "Epoch: 14/30..  Training Loss: 0.375..  Test Loss: 0.379..  Test Accuracy: 0.871\n",
            "Epoch: 15/30..  Training Loss: 0.371..  Test Loss: 0.390..  Test Accuracy: 0.869\n",
            "Epoch: 16/30..  Training Loss: 0.374..  Test Loss: 0.385..  Test Accuracy: 0.865\n",
            "Epoch: 17/30..  Training Loss: 0.373..  Test Loss: 0.384..  Test Accuracy: 0.868\n",
            "Epoch: 18/30..  Training Loss: 0.364..  Test Loss: 0.370..  Test Accuracy: 0.876\n",
            "Epoch: 19/30..  Training Loss: 0.366..  Test Loss: 0.365..  Test Accuracy: 0.871\n",
            "Epoch: 20/30..  Training Loss: 0.353..  Test Loss: 0.385..  Test Accuracy: 0.874\n",
            "Epoch: 21/30..  Training Loss: 0.357..  Test Loss: 0.386..  Test Accuracy: 0.868\n",
            "Epoch: 22/30..  Training Loss: 0.350..  Test Loss: 0.394..  Test Accuracy: 0.870\n",
            "Epoch: 23/30..  Training Loss: 0.353..  Test Loss: 0.385..  Test Accuracy: 0.871\n",
            "Epoch: 24/30..  Training Loss: 0.360..  Test Loss: 0.380..  Test Accuracy: 0.871\n",
            "Epoch: 25/30..  Training Loss: 0.360..  Test Loss: 0.378..  Test Accuracy: 0.867\n",
            "Epoch: 26/30..  Training Loss: 0.343..  Test Loss: 0.369..  Test Accuracy: 0.874\n",
            "Epoch: 27/30..  Training Loss: 0.358..  Test Loss: 0.372..  Test Accuracy: 0.873\n",
            "Epoch: 28/30..  Training Loss: 0.353..  Test Loss: 0.384..  Test Accuracy: 0.875\n",
            "Epoch: 29/30..  Training Loss: 0.343..  Test Loss: 0.394..  Test Accuracy: 0.872\n",
            "Epoch: 30/30..  Training Loss: 0.345..  Test Loss: 0.379..  Test Accuracy: 0.873\n"
          ]
        }
      ]
    },
    {
      "cell_type": "code",
      "source": [
        "def view_classify(img, ps, version=\"MNIST\"):\n",
        "    '''\n",
        "    Function for viewing an image and it's predicted classes.\n",
        "    '''\n",
        "    ps = ps.data.numpy().squeeze()\n",
        "\n",
        "    fig, (ax1, ax2) = plt.subplots(figsize=(6,9), ncols=2)\n",
        "    ax1.imshow(img.resize_(1, 28, 28).numpy().squeeze(), cmap='Greys_r')\n",
        "    ax1.axis('off')\n",
        "    ax2.barh(np.arange(10), ps)\n",
        "    ax2.set_aspect(0.1)\n",
        "    ax2.set_yticks(np.arange(10))\n",
        "\n",
        "    if version == \"MNIST\":\n",
        "        ax2.set_yticklabels(np.arange(10))\n",
        "    elif version == \"Fashion\":\n",
        "        ax2.set_yticklabels(['T-shirt/top',\n",
        "                            'Trouser',\n",
        "                            'Pullover',\n",
        "                            'Dress',\n",
        "                            'Coat',\n",
        "                            'Sandal',\n",
        "                            'Shirt',\n",
        "                            'Sneaker',\n",
        "                            'Bag',\n",
        "                            'Ankle Boot'], size='small');\n",
        "    ax2.set_title('Class Probability')\n",
        "    ax2.set_xlim(0, 1.1)\n",
        "\n",
        "    plt.tight_layout()"
      ],
      "metadata": {
        "id": "bSvfR8yG1S95"
      },
      "execution_count": 42,
      "outputs": []
    },
    {
      "cell_type": "code",
      "source": [
        "img = images[1].view(1, 784)\n",
        "with torch.no_grad():\n",
        "  log_ps = model(img)\n",
        "ps = torch.exp(log_ps)\n",
        "view_classify(img.view(1, 28, 28), ps, version='Fashion')"
      ],
      "metadata": {
        "colab": {
          "base_uri": "https://localhost:8080/",
          "height": 319
        },
        "id": "uHiFH-UI2H5b",
        "outputId": "e9eabbfe-895d-4e81-c25b-22900e1b9044"
      },
      "execution_count": 43,
      "outputs": [
        {
          "output_type": "display_data",
          "data": {
            "text/plain": [
              "<Figure size 600x900 with 2 Axes>"
            ],
            "image/png": "[encoded data removed]"
          },
          "metadata": {}
        }
      ]
    },
    {
      "cell_type": "code",
      "source": [
        "plt.plot(train_losses, label='Training loss')\n",
        "plt.plot(test_losses, label='Validation loss')\n",
        "plt.legend(frameon=False)"
      ],
      "metadata": {
        "colab": {
          "base_uri": "https://localhost:8080/",
          "height": 448
        },
        "id": "d-CMUDo_7iAt",
        "outputId": "cd4c9bbc-47a7-412e-dcf6-29f2883e1470"
      },
      "execution_count": 44,
      "outputs": [
        {
          "output_type": "execute_result",
          "data": {
            "text/plain": [
              "<matplotlib.legend.Legend at 0x7934bdaab040>"
            ]
          },
          "metadata": {},
          "execution_count": 44
        },
        {
          "output_type": "display_data",
          "data": {
            "text/plain": [
              "<Figure size 640x480 with 1 Axes>"
            ],
            "image/png": "[encoded data removed]"
          },
          "metadata": {}
        }
      ]
    }
  ]
}