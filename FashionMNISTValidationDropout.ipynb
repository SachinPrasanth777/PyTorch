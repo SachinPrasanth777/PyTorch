{
  "nbformat": 4,
  "nbformat_minor": 0,
  "metadata": {
    "colab": {
      "provenance": [],
      "authorship_tag": "ABX9TyNssq+Q8NefHig7KZsxWsez",
      "include_colab_link": true
    },
    "kernelspec": {
      "name": "python3",
      "display_name": "Python 3"
    },
    "language_info": {
      "name": "python"
    }
  },
  "cells": [
    {
      "cell_type": "markdown",
      "metadata": {
        "id": "view-in-github",
        "colab_type": "text"
      },
      "source": [
        "<a href=\"https://colab.research.google.com/github/SachinPrasanth777/PyTorch/blob/main/FashionMNISTValidationDropout.ipynb\" target=\"_parent\"><img src=\"https://colab.research.google.com/assets/colab-badge.svg\" alt=\"Open In Colab\"/></a>"
      ]
    },
    {
      "cell_type": "code",
      "source": [
        "import torch\n",
        "import numpy as np\n",
        "import matplotlib.pyplot as plt\n",
        "from torch import nn, optim\n",
        "import torch.nn.functional as F"
      ],
      "metadata": {
        "id": "YKGYsw1NwEUg"
      },
      "execution_count": 1,
      "outputs": []
    },
    {
      "cell_type": "code",
      "source": [
        "from torchvision import datasets,transforms\n",
        "transform = transforms.Compose([transforms.ToTensor(),transforms.Normalize((0.5,),(0.5,))])\n",
        "trainset = datasets.FashionMNIST('~/.pytorch/MNIST_data/',download=True,train=True,transform=transform)\n",
        "trainloader = torch.utils.data.DataLoader(trainset,batch_size=64,shuffle=True)\n",
        "testset = datasets.FashionMNIST('~/.pytorch/MNIST_data/',download=True,train=False,transform=transform)\n",
        "testloader = torch.utils.data.DataLoader(testset,batch_size=64,shuffle=True)"
      ],
      "metadata": {
        "id": "BlOlfzRxwcFX"
      },
      "execution_count": null,
      "outputs": []
    },
    {
      "cell_type": "code",
      "source": [
        "print(len(trainset))\n",
        "print(len(testset))"
      ],
      "metadata": {
        "colab": {
          "base_uri": "https://localhost:8080/"
        },
        "id": "G8rs1jiIxm5o",
        "outputId": "95ab3839-49ed-42ac-de44-8dae6b005fd7"
      },
      "execution_count": 3,
      "outputs": [
        {
          "output_type": "stream",
          "name": "stdout",
          "text": [
            "60000\n",
            "10000\n"
          ]
        }
      ]
    },
    {
      "cell_type": "code",
      "source": [
        "image,label = next(iter(trainloader))\n",
        "print(image.shape)\n",
        "print(label.shape)\n",
        "uniques = trainset.targets\n",
        "print(len(uniques.unique()))"
      ],
      "metadata": {
        "colab": {
          "base_uri": "https://localhost:8080/"
        },
        "id": "kcVvIGwsxqm2",
        "outputId": "0b947811-1ca7-4415-aec1-4b56e83ee652"
      },
      "execution_count": 4,
      "outputs": [
        {
          "output_type": "stream",
          "name": "stdout",
          "text": [
            "torch.Size([64, 1, 28, 28])\n",
            "torch.Size([64])\n",
            "10\n"
          ]
        }
      ]
    },
    {
      "cell_type": "code",
      "source": [
        "class_names = trainset.classes\n",
        "print(class_names)"
      ],
      "metadata": {
        "colab": {
          "base_uri": "https://localhost:8080/"
        },
        "id": "MImwzfDVyONg",
        "outputId": "a3fda498-45ab-491f-f1be-067e037dbe7d"
      },
      "execution_count": 5,
      "outputs": [
        {
          "output_type": "stream",
          "name": "stdout",
          "text": [
            "['T-shirt/top', 'Trouser', 'Pullover', 'Dress', 'Coat', 'Sandal', 'Shirt', 'Sneaker', 'Bag', 'Ankle boot']\n"
          ]
        }
      ]
    },
    {
      "cell_type": "code",
      "source": [
        "class Classifier(nn.Module):\n",
        "  def __init__(self):\n",
        "    super().__init__()\n",
        "    self.fc1 = nn.Linear(784,256)\n",
        "    self.fc2 = nn.Linear(256,128)\n",
        "    self.fc3 = nn.Linear(128,64)\n",
        "    self.fc4 = nn.Linear(64,10)\n",
        "    self.dropout = nn.Dropout(p=0.2)\n",
        "  def forward(self,x):\n",
        "    x = x.view(x.shape[0],-1)\n",
        "    x = self.dropout(F.relu(self.fc1(x)))\n",
        "    x = self.dropout(F.relu(self.fc2(x)))\n",
        "    x = self.dropout(F.relu(self.fc3(x)))\n",
        "    x = F.log_softmax(self.fc4(x),dim=1)\n",
        "    return x"
      ],
      "metadata": {
        "id": "_juQsJw7yUYB"
      },
      "execution_count": 6,
      "outputs": []
    },
    {
      "cell_type": "code",
      "source": [
        "model = Classifier()\n",
        "model"
      ],
      "metadata": {
        "colab": {
          "base_uri": "https://localhost:8080/"
        },
        "id": "tSZxDqEs0KeF",
        "outputId": "baf82ced-a4a1-4bb1-f83b-830b2b9c511d"
      },
      "execution_count": 7,
      "outputs": [
        {
          "output_type": "execute_result",
          "data": {
            "text/plain": [
              "Classifier(\n",
              "  (fc1): Linear(in_features=784, out_features=256, bias=True)\n",
              "  (fc2): Linear(in_features=256, out_features=128, bias=True)\n",
              "  (fc3): Linear(in_features=128, out_features=64, bias=True)\n",
              "  (fc4): Linear(in_features=64, out_features=10, bias=True)\n",
              "  (dropout): Dropout(p=0.2, inplace=False)\n",
              ")"
            ]
          },
          "metadata": {},
          "execution_count": 7
        }
      ]
    },
    {
      "cell_type": "code",
      "source": [
        "criterion = nn.NLLLoss()\n",
        "optimizer = torch.optim.Adam(model.parameters(),lr=0.003)"
      ],
      "metadata": {
        "id": "u64OHAp30NeS"
      },
      "execution_count": 8,
      "outputs": []
    },
    {
      "cell_type": "code",
      "source": [
        "model = Classifier()\n",
        "criterion = nn.NLLLoss()\n",
        "optimizer = optim.Adam(model.parameters(),lr=0.003)\n",
        "epochs = 30\n",
        "steps = 0\n",
        "train_losses,test_losses = [],[]\n",
        "for e in range(epochs):\n",
        "  running_loss = 0\n",
        "  for images,labels in trainloader:\n",
        "    images = images.view(images.shape[0],-1)\n",
        "    optimizer.zero_grad()\n",
        "    log_ps = model(images)\n",
        "    loss = criterion(log_ps,labels)\n",
        "    loss.backward()\n",
        "    optimizer.step()\n",
        "    running_loss += loss.item()\n",
        "  else:\n",
        "    test_loss = 0\n",
        "    accuracy = 0\n",
        "    with torch.no_grad():\n",
        "      model.eval()\n",
        "      for images,labels in testloader:\n",
        "        images = images.view(images.shape[0],-1)\n",
        "        log_ps = model(images)\n",
        "        test_loss += criterion(log_ps,labels)\n",
        "        ps = torch.exp(log_ps)\n",
        "        top_p,top_class = ps.topk(1,dim=1)\n",
        "        equals = top_class == labels.view(*top_class.shape)\n",
        "        accuracy += torch.mean(equals.type(torch.FloatTensor))\n",
        "    model.train()\n",
        "    train_losses.append(running_loss/len(trainloader))\n",
        "    test_losses.append(test_loss/len(testloader))\n",
        "    print(\"Epoch: {}/{}.. \".format(e+1, epochs),\n",
        "          \"Training Loss: {:.3f}.. \".format(running_loss/len(trainloader)),\n",
        "          \"Test Loss: {:.3f}.. \".format(test_loss/len(testloader)),\n",
        "          \"Test Accuracy: {:.3f}\".format(accuracy/len(testloader)))"
      ],
      "metadata": {
        "colab": {
          "base_uri": "https://localhost:8080/"
        },
        "id": "V6LzyvZW0qBp",
        "outputId": "4aa99311-c501-46c0-c82b-871701eaa01f"
      },
      "execution_count": 9,
      "outputs": [
        {
          "output_type": "stream",
          "name": "stdout",
          "text": [
            "Epoch: 1/30..  Training Loss: 0.606..  Test Loss: 0.497..  Test Accuracy: 0.818\n",
            "Epoch: 2/30..  Training Loss: 0.484..  Test Loss: 0.450..  Test Accuracy: 0.842\n",
            "Epoch: 3/30..  Training Loss: 0.445..  Test Loss: 0.463..  Test Accuracy: 0.832\n",
            "Epoch: 4/30..  Training Loss: 0.438..  Test Loss: 0.418..  Test Accuracy: 0.852\n",
            "Epoch: 5/30..  Training Loss: 0.425..  Test Loss: 0.409..  Test Accuracy: 0.854\n",
            "Epoch: 6/30..  Training Loss: 0.416..  Test Loss: 0.427..  Test Accuracy: 0.859\n",
            "Epoch: 7/30..  Training Loss: 0.406..  Test Loss: 0.412..  Test Accuracy: 0.863\n",
            "Epoch: 8/30..  Training Loss: 0.403..  Test Loss: 0.391..  Test Accuracy: 0.864\n",
            "Epoch: 9/30..  Training Loss: 0.393..  Test Loss: 0.390..  Test Accuracy: 0.865\n",
            "Epoch: 10/30..  Training Loss: 0.385..  Test Loss: 0.391..  Test Accuracy: 0.865\n",
            "Epoch: 11/30..  Training Loss: 0.383..  Test Loss: 0.407..  Test Accuracy: 0.863\n",
            "Epoch: 12/30..  Training Loss: 0.383..  Test Loss: 0.385..  Test Accuracy: 0.869\n",
            "Epoch: 13/30..  Training Loss: 0.379..  Test Loss: 0.391..  Test Accuracy: 0.868\n",
            "Epoch: 14/30..  Training Loss: 0.371..  Test Loss: 0.382..  Test Accuracy: 0.868\n",
            "Epoch: 15/30..  Training Loss: 0.374..  Test Loss: 0.396..  Test Accuracy: 0.858\n",
            "Epoch: 16/30..  Training Loss: 0.368..  Test Loss: 0.394..  Test Accuracy: 0.866\n",
            "Epoch: 17/30..  Training Loss: 0.366..  Test Loss: 0.379..  Test Accuracy: 0.873\n",
            "Epoch: 18/30..  Training Loss: 0.368..  Test Loss: 0.367..  Test Accuracy: 0.868\n",
            "Epoch: 19/30..  Training Loss: 0.363..  Test Loss: 0.383..  Test Accuracy: 0.869\n",
            "Epoch: 20/30..  Training Loss: 0.360..  Test Loss: 0.389..  Test Accuracy: 0.860\n",
            "Epoch: 21/30..  Training Loss: 0.365..  Test Loss: 0.377..  Test Accuracy: 0.873\n",
            "Epoch: 22/30..  Training Loss: 0.349..  Test Loss: 0.384..  Test Accuracy: 0.871\n",
            "Epoch: 23/30..  Training Loss: 0.358..  Test Loss: 0.373..  Test Accuracy: 0.873\n",
            "Epoch: 24/30..  Training Loss: 0.351..  Test Loss: 0.375..  Test Accuracy: 0.873\n",
            "Epoch: 25/30..  Training Loss: 0.347..  Test Loss: 0.385..  Test Accuracy: 0.869\n",
            "Epoch: 26/30..  Training Loss: 0.350..  Test Loss: 0.399..  Test Accuracy: 0.862\n",
            "Epoch: 27/30..  Training Loss: 0.345..  Test Loss: 0.378..  Test Accuracy: 0.877\n",
            "Epoch: 28/30..  Training Loss: 0.346..  Test Loss: 0.375..  Test Accuracy: 0.870\n",
            "Epoch: 29/30..  Training Loss: 0.343..  Test Loss: 0.376..  Test Accuracy: 0.869\n",
            "Epoch: 30/30..  Training Loss: 0.351..  Test Loss: 0.380..  Test Accuracy: 0.872\n"
          ]
        }
      ]
    },
    {
      "cell_type": "code",
      "source": [
        "def view_classify(img, ps, version=\"MNIST\"):\n",
        "    '''\n",
        "    Function for viewing an image and it's predicted classes.\n",
        "    '''\n",
        "    ps = ps.data.numpy().squeeze()\n",
        "\n",
        "    fig, (ax1, ax2) = plt.subplots(figsize=(6,9), ncols=2)\n",
        "    ax1.imshow(img.resize_(1, 28, 28).numpy().squeeze(), cmap='Greys_r')\n",
        "    ax1.axis('off')\n",
        "    ax2.barh(np.arange(10), ps)\n",
        "    ax2.set_aspect(0.1)\n",
        "    ax2.set_yticks(np.arange(10))\n",
        "\n",
        "    if version == \"MNIST\":\n",
        "        ax2.set_yticklabels(np.arange(10))\n",
        "    elif version == \"Fashion\":\n",
        "        ax2.set_yticklabels(['T-shirt/top',\n",
        "                            'Trouser',\n",
        "                            'Pullover',\n",
        "                            'Dress',\n",
        "                            'Coat',\n",
        "                            'Sandal',\n",
        "                            'Shirt',\n",
        "                            'Sneaker',\n",
        "                            'Bag',\n",
        "                            'Ankle Boot'], size='small');\n",
        "    ax2.set_title('Class Probability')\n",
        "    ax2.set_xlim(0, 1.1)\n",
        "\n",
        "    plt.tight_layout()"
      ],
      "metadata": {
        "id": "bSvfR8yG1S95"
      },
      "execution_count": 10,
      "outputs": []
    },
    {
      "cell_type": "code",
      "source": [
        "img = images[1].view(1, 784)\n",
        "with torch.no_grad():\n",
        "  log_ps = model(img)\n",
        "ps = torch.exp(log_ps)\n",
        "view_classify(img.view(1, 28, 28), ps, version='Fashion')"
      ],
      "metadata": {
        "colab": {
          "base_uri": "https://localhost:8080/",
          "height": 319
        },
        "id": "uHiFH-UI2H5b",
        "outputId": "4cd4efdb-b088-4c00-c7c3-4e0cd613dea1"
      },
      "execution_count": 11,
      "outputs": [
        {
          "output_type": "display_data",
          "data": {
            "text/plain": [
              "<Figure size 600x900 with 2 Axes>"
            ],
            "image/png": "[encoded data removed]"
          },
          "metadata": {}
        }
      ]
    },
    {
      "cell_type": "code",
      "source": [
        "plt.plot(train_losses, label='Training loss')\n",
        "plt.plot(test_losses, label='Validation loss')\n",
        "plt.legend(frameon=False)"
      ],
      "metadata": {
        "colab": {
          "base_uri": "https://localhost:8080/",
          "height": 448
        },
        "id": "d-CMUDo_7iAt",
        "outputId": "6913245c-395c-4be2-c0bb-596e30d65199"
      },
      "execution_count": 12,
      "outputs": [
        {
          "output_type": "execute_result",
          "data": {
            "text/plain": [
              "<matplotlib.legend.Legend at 0x7a2bd8a367d0>"
            ]
          },
          "metadata": {},
          "execution_count": 12
        },
        {
          "output_type": "display_data",
          "data": {
            "text/plain": [
              "<Figure size 640x480 with 1 Axes>"
            ],
            "image/png": "[encoded data removed]"
          },
          "metadata": {}
        }
      ]
    },
    {
      "cell_type": "code",
      "source": [
        "print(\"Our model: \\n\\n\", model, '\\n')\n",
        "print(\"The state dict keys: \\n\\n\", model.state_dict().keys())"
      ],
      "metadata": {
        "colab": {
          "base_uri": "https://localhost:8080/"
        },
        "id": "dx-9OzqRhxRe",
        "outputId": "773864d9-e7d8-4866-ef0b-7b50d60e662a"
      },
      "execution_count": 13,
      "outputs": [
        {
          "output_type": "stream",
          "name": "stdout",
          "text": [
            "Our model: \n",
            "\n",
            " Classifier(\n",
            "  (fc1): Linear(in_features=784, out_features=256, bias=True)\n",
            "  (fc2): Linear(in_features=256, out_features=128, bias=True)\n",
            "  (fc3): Linear(in_features=128, out_features=64, bias=True)\n",
            "  (fc4): Linear(in_features=64, out_features=10, bias=True)\n",
            "  (dropout): Dropout(p=0.2, inplace=False)\n",
            ") \n",
            "\n",
            "The state dict keys: \n",
            "\n",
            " odict_keys(['fc1.weight', 'fc1.bias', 'fc2.weight', 'fc2.bias', 'fc3.weight', 'fc3.bias', 'fc4.weight', 'fc4.bias'])\n"
          ]
        }
      ]
    },
    {
      "cell_type": "code",
      "source": [
        "torch.save(model.state_dict(), 'checkpoint.pth')"
      ],
      "metadata": {
        "id": "FwTvNYABiEY7"
      },
      "execution_count": 14,
      "outputs": []
    },
    {
      "cell_type": "code",
      "source": [
        "state_dict = torch.load('checkpoint.pth')\n",
        "print(state_dict.keys())"
      ],
      "metadata": {
        "colab": {
          "base_uri": "https://localhost:8080/"
        },
        "id": "x8x0kf21iSvc",
        "outputId": "364f9ac8-e975-42ca-afa6-c1f6aee104ab"
      },
      "execution_count": 15,
      "outputs": [
        {
          "output_type": "stream",
          "name": "stdout",
          "text": [
            "odict_keys(['fc1.weight', 'fc1.bias', 'fc2.weight', 'fc2.bias', 'fc3.weight', 'fc3.bias', 'fc4.weight', 'fc4.bias'])\n"
          ]
        },
        {
          "output_type": "stream",
          "name": "stderr",
          "text": [
            "<ipython-input-15-89efed10bf1a>:1: FutureWarning: You are using `torch.load` with `weights_only=False` (the current default value), which uses the default pickle module implicitly. It is possible to construct malicious pickle data which will execute arbitrary code during unpickling (See https://github.com/pytorch/pytorch/blob/main/SECURITY.md#untrusted-models for more details). In a future release, the default value for `weights_only` will be flipped to `True`. This limits the functions that could be executed during unpickling. Arbitrary objects will no longer be allowed to be loaded via this mode unless they are explicitly allowlisted by the user via `torch.serialization.add_safe_globals`. We recommend you start setting `weights_only=True` for any use case where you don't have full control of the loaded file. Please open an issue on GitHub for any issues related to this experimental feature.\n",
            "  state_dict = torch.load('checkpoint.pth')\n"
          ]
        }
      ]
    },
    {
      "cell_type": "code",
      "source": [
        "model.load_state_dict(state_dict)\n",
        "model.eval()"
      ],
      "metadata": {
        "colab": {
          "base_uri": "https://localhost:8080/"
        },
        "id": "qJmvbJ8XiYgN",
        "outputId": "1543d1ff-c46d-41d9-cb0d-8d9a1f8cae98"
      },
      "execution_count": 17,
      "outputs": [
        {
          "output_type": "execute_result",
          "data": {
            "text/plain": [
              "Classifier(\n",
              "  (fc1): Linear(in_features=784, out_features=256, bias=True)\n",
              "  (fc2): Linear(in_features=256, out_features=128, bias=True)\n",
              "  (fc3): Linear(in_features=128, out_features=64, bias=True)\n",
              "  (fc4): Linear(in_features=64, out_features=10, bias=True)\n",
              "  (dropout): Dropout(p=0.2, inplace=False)\n",
              ")"
            ]
          },
          "metadata": {},
          "execution_count": 17
        }
      ]
    }
  ]
}