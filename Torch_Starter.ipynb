{
  "cells": [
    {
      "cell_type": "markdown",
      "metadata": {
        "id": "view-in-github",
        "colab_type": "text"
      },
      "source": [
        "<a href=\"https://colab.research.google.com/github/SachinPrasanth777/PyTorch/blob/main/Torch_Starter.ipynb\" target=\"_parent\"><img src=\"https://colab.research.google.com/assets/colab-badge.svg\" alt=\"Open In Colab\"/></a>"
      ]
    },
    {
      "cell_type": "code",
      "source": [
        "%matplotlib inline\n",
        "%config InlineBackend.figure_format = 'retina'\n",
        "import numpy as np\n",
        "import matplotlib.pyplot as plt\n",
        "import helper\n",
        "import torch"
      ],
      "metadata": {
        "id": "8GEX4gYvI3yw"
      },
      "execution_count": 2,
      "outputs": []
    },
    {
      "cell_type": "code",
      "source": [
        "!pip install six"
      ],
      "metadata": {
        "colab": {
          "base_uri": "https://localhost:8080/"
        },
        "id": "N7I5HNjpGV_4",
        "outputId": "ab919c7f-0f64-4efc-9da3-f6bafee8b8d1"
      },
      "execution_count": 8,
      "outputs": [
        {
          "output_type": "stream",
          "name": "stdout",
          "text": [
            "Requirement already satisfied: six in /usr/local/lib/python3.10/dist-packages (1.17.0)\n"
          ]
        }
      ]
    },
    {
      "cell_type": "code",
      "source": [
        "from six.moves import urllib\n",
        "opener = urllib.request.build_opener()\n",
        "opener.addheaders = [('User-agent', 'Mozilla/5.0')]\n",
        "urllib.request.install_opener(opener)"
      ],
      "metadata": {
        "id": "KGgS17uBJSXh"
      },
      "execution_count": 9,
      "outputs": []
    },
    {
      "cell_type": "code",
      "source": [
        "from torchvision import datasets, transforms\n",
        "transform = transforms.Compose([transforms.ToTensor(),transforms.Normalize((0.5,),(0.5,))])"
      ],
      "metadata": {
        "id": "gBFzMfdZJXgN"
      },
      "execution_count": 10,
      "outputs": []
    },
    {
      "cell_type": "code",
      "source": [
        "trainset = datasets.MNIST('~/.pytorch/MNIST_data/', download=True, train=True, transform=transform)\n",
        "trainloader = torch.utils.data.DataLoader(trainset, batch_size=64, shuffle=True)"
      ],
      "metadata": {
        "id": "Ix5ABg8SKHSA"
      },
      "execution_count": 11,
      "outputs": []
    },
    {
      "cell_type": "code",
      "source": [
        "dataiter = iter(trainloader)\n",
        "images, labels = next(dataiter)\n",
        "print(type(images))\n",
        "print(images.shape)\n",
        "print(labels.shape)"
      ],
      "metadata": {
        "colab": {
          "base_uri": "https://localhost:8080/"
        },
        "id": "Gf2JKK6jKUYT",
        "outputId": "369168bc-f148-4089-d6ff-423262dfcc61"
      },
      "execution_count": 12,
      "outputs": [
        {
          "output_type": "stream",
          "name": "stdout",
          "text": [
            "<class 'torch.Tensor'>\n",
            "torch.Size([64, 1, 28, 28])\n",
            "torch.Size([64])\n"
          ]
        }
      ]
    },
    {
      "cell_type": "code",
      "source": [
        "plt.imshow(images[1].numpy().squeeze(), cmap='Greys_r');"
      ],
      "metadata": {
        "id": "9b_uKE7pNe16",
        "outputId": "896d6f31-5d9d-4446-ed50-44de3ae77bf8",
        "colab": {
          "base_uri": "https://localhost:8080/",
          "height": 430
        }
      },
      "execution_count": 18,
      "outputs": [
        {
          "output_type": "display_data",
          "data": {
            "text/plain": [
              "<Figure size 640x480 with 1 Axes>"
            ],
            "image/png": "[encoded data removed]"
          },
          "metadata": {
            "image/png": {
              "width": 417,
              "height": 413
            }
          }
        }
      ]
    },
    {
      "cell_type": "code",
      "source": [
        "def activation(x):\n",
        "  return 1/(1+torch.exp(-x))\n",
        "inputs = images.view(images.shape[0], -1)\n",
        "# w1 = (784,256) because (1,28,28) = (1x28x28) = 784 and 256 is the number of neurons in the hidden layer\n",
        "w1 = torch.randn(784, 256)\n",
        "b1 = torch.randn(256)\n",
        "# for w2 it is 256 because of the weights\n",
        "w2 = torch.randn(256, 10)\n",
        "b2 = torch.randn(10)\n",
        "h = activation(torch.mm(inputs, w1) + b1)\n",
        "out = torch.mm(h, w2) + b2\n",
        "print(out.shape)"
      ],
      "metadata": {
        "colab": {
          "base_uri": "https://localhost:8080/"
        },
        "id": "63jiK75MIIdo",
        "outputId": "961a47b1-cdab-4138-cd4f-8a38b5c7c8f5"
      },
      "execution_count": 21,
      "outputs": [
        {
          "output_type": "stream",
          "name": "stdout",
          "text": [
            "torch.Size([64, 10])\n"
          ]
        }
      ]
    },
    {
      "cell_type": "code",
      "source": [
        "def softmax(x):\n",
        "  return torch.exp(x)/torch.sum(torch.exp(x),dim=1).view(-1,1)\n",
        "probabilities = softmax(out)\n",
        "print(probabilities.shape)\n",
        "print(probabilities.sum(dim=1))"
      ],
      "metadata": {
        "colab": {
          "base_uri": "https://localhost:8080/"
        },
        "id": "-conOhTufVGx",
        "outputId": "bac8a8ca-6561-4af1-9493-02bdf0e769e9"
      },
      "execution_count": 25,
      "outputs": [
        {
          "output_type": "stream",
          "name": "stdout",
          "text": [
            "torch.Size([64, 10])\n",
            "tensor([1.0000, 1.0000, 1.0000, 1.0000, 1.0000, 1.0000, 1.0000, 1.0000, 1.0000,\n",
            "        1.0000, 1.0000, 1.0000, 1.0000, 1.0000, 1.0000, 1.0000, 1.0000, 1.0000,\n",
            "        1.0000, 1.0000, 1.0000, 1.0000, 1.0000, 1.0000, 1.0000, 1.0000, 1.0000,\n",
            "        1.0000, 1.0000, 1.0000, 1.0000, 1.0000, 1.0000, 1.0000, 1.0000, 1.0000,\n",
            "        1.0000, 1.0000, 1.0000, 1.0000, 1.0000, 1.0000, 1.0000, 1.0000, 1.0000,\n",
            "        1.0000, 1.0000, 1.0000, 1.0000, 1.0000, 1.0000, 1.0000, 1.0000, 1.0000,\n",
            "        1.0000, 1.0000, 1.0000, 1.0000, 1.0000, 1.0000, 1.0000, 1.0000, 1.0000,\n",
            "        1.0000])\n"
          ]
        }
      ]
    },
    {
      "cell_type": "code",
      "source": [
        "from torch import nn\n",
        "class Network(nn.Module):\n",
        "    def __init__(self):\n",
        "        super().__init__()\n",
        "        self.hidden = nn.Linear(784, 256)\n",
        "        self.output = nn.Linear(256, 10)\n",
        "        self.sigmoid = nn.Sigmoid()\n",
        "        self.softmax = nn.Softmax(dim=1)\n",
        "    def forward(self, x):\n",
        "        x = self.hidden(x)\n",
        "        x = self.sigmoid(x)\n",
        "        x = self.output(x)\n",
        "        x = self.softmax(x)\n",
        "        return x"
      ],
      "metadata": {
        "id": "cqGG1yIijOxP"
      },
      "execution_count": 34,
      "outputs": []
    },
    {
      "cell_type": "code",
      "source": [
        "model = Network()\n",
        "model"
      ],
      "metadata": {
        "colab": {
          "base_uri": "https://localhost:8080/"
        },
        "id": "BBk6z4M9mROn",
        "outputId": "3bdd9057-e364-49ff-8f23-7232b9692c25"
      },
      "execution_count": 35,
      "outputs": [
        {
          "output_type": "execute_result",
          "data": {
            "text/plain": [
              "Network(\n",
              "  (hidden): Linear(in_features=784, out_features=256, bias=True)\n",
              "  (output): Linear(in_features=256, out_features=10, bias=True)\n",
              "  (sigmoid): Sigmoid()\n",
              "  (softmax): Softmax(dim=1)\n",
              ")"
            ]
          },
          "metadata": {},
          "execution_count": 35
        }
      ]
    },
    {
      "cell_type": "code",
      "source": [
        "class Networks(nn.Module):\n",
        "  def __init__(self):\n",
        "    super().__init__()\n",
        "    self.fc1 = nn.Linear(784,128)\n",
        "    self.fc2 = nn.Linear(128,64)\n",
        "    self.fc3 = nn.Linear(64,10)\n",
        "  def forward(self, x):\n",
        "    x = self.fc1(x)\n",
        "    x = nn.functional.relu(x)\n",
        "    x = self.fc2(x)\n",
        "    x = nn.functional.relu(x)\n",
        "    x = self.fc3(x)\n",
        "    x = nn.functional.softmax(x,dim=1)\n",
        "    return x"
      ],
      "metadata": {
        "id": "vQdzWEFOs0AI"
      },
      "execution_count": 38,
      "outputs": []
    },
    {
      "cell_type": "code",
      "source": [
        "models = Networks()\n",
        "models"
      ],
      "metadata": {
        "colab": {
          "base_uri": "https://localhost:8080/"
        },
        "id": "oGAqmzGquEa-",
        "outputId": "f3be7a73-d24d-4184-ac36-79b3f1b3b694"
      },
      "execution_count": 39,
      "outputs": [
        {
          "output_type": "execute_result",
          "data": {
            "text/plain": [
              "Networks(\n",
              "  (fc1): Linear(in_features=784, out_features=128, bias=True)\n",
              "  (fc2): Linear(in_features=128, out_features=64, bias=True)\n",
              "  (fc3): Linear(in_features=64, out_features=10, bias=True)\n",
              ")"
            ]
          },
          "metadata": {},
          "execution_count": 39
        }
      ]
    },
    {
      "cell_type": "code",
      "source": [
        "print(models.fc1.weight)\n",
        "print(models.fc1.bias)"
      ],
      "metadata": {
        "colab": {
          "base_uri": "https://localhost:8080/"
        },
        "id": "vCVJOa19y0TG",
        "outputId": "87aa9fae-0f31-4b2c-b51b-f2380ffd4ac8"
      },
      "execution_count": 41,
      "outputs": [
        {
          "output_type": "stream",
          "name": "stdout",
          "text": [
            "Parameter containing:\n",
            "tensor([[ 0.0321, -0.0342,  0.0037,  ..., -0.0170,  0.0280, -0.0244],\n",
            "        [ 0.0236,  0.0072,  0.0206,  ...,  0.0305,  0.0038,  0.0182],\n",
            "        [-0.0214,  0.0120, -0.0047,  ...,  0.0084, -0.0321, -0.0083],\n",
            "        ...,\n",
            "        [-0.0204, -0.0324,  0.0065,  ...,  0.0167,  0.0320,  0.0252],\n",
            "        [ 0.0083, -0.0134,  0.0136,  ...,  0.0119,  0.0014, -0.0118],\n",
            "        [ 0.0197, -0.0108,  0.0351,  ..., -0.0117,  0.0136, -0.0124]],\n",
            "       requires_grad=True)\n",
            "Parameter containing:\n",
            "tensor([-0.0054, -0.0023,  0.0243, -0.0303,  0.0295,  0.0141,  0.0276, -0.0068,\n",
            "         0.0008,  0.0220,  0.0253, -0.0063,  0.0307, -0.0337,  0.0062, -0.0032,\n",
            "        -0.0125, -0.0066, -0.0220, -0.0154,  0.0072, -0.0340, -0.0341,  0.0215,\n",
            "         0.0334, -0.0025,  0.0230, -0.0128, -0.0176,  0.0022, -0.0198, -0.0135,\n",
            "         0.0214, -0.0055, -0.0160, -0.0336, -0.0150, -0.0088,  0.0047, -0.0230,\n",
            "         0.0342, -0.0134, -0.0269, -0.0232,  0.0313,  0.0338,  0.0144,  0.0084,\n",
            "         0.0045, -0.0194, -0.0311, -0.0126, -0.0298, -0.0342, -0.0194, -0.0005,\n",
            "         0.0192,  0.0282,  0.0063, -0.0189, -0.0256,  0.0324, -0.0007, -0.0020,\n",
            "        -0.0181,  0.0278, -0.0257, -0.0227,  0.0276,  0.0201, -0.0020, -0.0222,\n",
            "         0.0310,  0.0064,  0.0348,  0.0083, -0.0162,  0.0006,  0.0247, -0.0273,\n",
            "         0.0126,  0.0080,  0.0262,  0.0266,  0.0304, -0.0117, -0.0348,  0.0134,\n",
            "        -0.0313, -0.0283,  0.0070,  0.0042,  0.0311,  0.0236,  0.0116,  0.0072,\n",
            "         0.0310,  0.0242,  0.0215, -0.0310, -0.0139,  0.0346, -0.0338, -0.0146,\n",
            "         0.0120,  0.0129, -0.0264, -0.0170, -0.0036, -0.0273, -0.0066, -0.0065,\n",
            "         0.0308, -0.0245,  0.0332,  0.0031, -0.0228, -0.0214,  0.0316, -0.0275,\n",
            "        -0.0166, -0.0012,  0.0117,  0.0222, -0.0237,  0.0133,  0.0238, -0.0110],\n",
            "       requires_grad=True)\n"
          ]
        }
      ]
    },
    {
      "cell_type": "code",
      "source": [
        "models.fc1.bias.data.fill_(0)"
      ],
      "metadata": {
        "colab": {
          "base_uri": "https://localhost:8080/"
        },
        "id": "StmNYKDKy9oN",
        "outputId": "fb9aaf60-7598-4a4b-cf04-0ddd088a1aed"
      },
      "execution_count": 43,
      "outputs": [
        {
          "output_type": "execute_result",
          "data": {
            "text/plain": [
              "tensor([0., 0., 0., 0., 0., 0., 0., 0., 0., 0., 0., 0., 0., 0., 0., 0., 0., 0., 0., 0., 0., 0., 0., 0.,\n",
              "        0., 0., 0., 0., 0., 0., 0., 0., 0., 0., 0., 0., 0., 0., 0., 0., 0., 0., 0., 0., 0., 0., 0., 0.,\n",
              "        0., 0., 0., 0., 0., 0., 0., 0., 0., 0., 0., 0., 0., 0., 0., 0., 0., 0., 0., 0., 0., 0., 0., 0.,\n",
              "        0., 0., 0., 0., 0., 0., 0., 0., 0., 0., 0., 0., 0., 0., 0., 0., 0., 0., 0., 0., 0., 0., 0., 0.,\n",
              "        0., 0., 0., 0., 0., 0., 0., 0., 0., 0., 0., 0., 0., 0., 0., 0., 0., 0., 0., 0., 0., 0., 0., 0.,\n",
              "        0., 0., 0., 0., 0., 0., 0., 0.])"
            ]
          },
          "metadata": {},
          "execution_count": 43
        }
      ]
    },
    {
      "cell_type": "code",
      "source": [
        "models.fc1.weight.data.normal_(std=0.01)"
      ],
      "metadata": {
        "colab": {
          "base_uri": "https://localhost:8080/"
        },
        "id": "APM0FBjpzEAy",
        "outputId": "345f3cc9-9bef-44d0-8f5a-d7ec3114b67c"
      },
      "execution_count": 44,
      "outputs": [
        {
          "output_type": "execute_result",
          "data": {
            "text/plain": [
              "tensor([[ 0.0105,  0.0175, -0.0068,  ...,  0.0168, -0.0030, -0.0049],\n",
              "        [-0.0013, -0.0099, -0.0098,  ..., -0.0004,  0.0197, -0.0059],\n",
              "        [-0.0084, -0.0030, -0.0126,  ..., -0.0042,  0.0232, -0.0049],\n",
              "        ...,\n",
              "        [ 0.0021,  0.0117,  0.0009,  ..., -0.0022, -0.0042,  0.0035],\n",
              "        [-0.0012, -0.0026,  0.0057,  ...,  0.0022, -0.0102,  0.0007],\n",
              "        [-0.0055, -0.0012, -0.0068,  ...,  0.0142,  0.0093, -0.0033]])"
            ]
          },
          "metadata": {},
          "execution_count": 44
        }
      ]
    },
    {
      "cell_type": "code",
      "source": [
        "import matplotlib.pyplot as plt\n",
        "import numpy as np\n",
        "\n",
        "def view_classify(img, ps, version=\"MNIST\"):\n",
        "    '''\n",
        "    Function for viewing an image and it's predicted classes.\n",
        "    '''\n",
        "    ps = ps.data.numpy().squeeze()\n",
        "\n",
        "    fig, (ax1, ax2) = plt.subplots(figsize=(6,9), ncols=2)\n",
        "    ax1.imshow(img.resize_(1, 28, 28).numpy().squeeze(), cmap='Greys_r') # Added cmap='Greys_r' for better visualization of MNIST images\n",
        "    ax1.axis('off')\n",
        "    ax2.barh(np.arange(10), ps)\n",
        "    ax2.set_aspect(0.1)\n",
        "    ax2.set_yticks(np.arange(10))\n",
        "\n",
        "    if version == \"MNIST\":\n",
        "        ax2.set_yticklabels(np.arange(10))\n",
        "    elif version == \"Fashion\":\n",
        "        ax2.set_yticklabels(['T-shirt/top',\n",
        "                            'Trouser',\n",
        "                            'Pullover',\n",
        "                            'Dress',\n",
        "                            'Coat',\n",
        "                            'Sandal',\n",
        "                            'Shirt',\n",
        "                            'Sneaker',\n",
        "                            'Bag',\n",
        "                            'Ankle Boot'], size='small');\n",
        "    ax2.set_title('Class Probability')\n",
        "    ax2.set_xlim(0, 1.1)\n",
        "\n",
        "    plt.tight_layout()\n",
        "\n",
        "\n",
        "dataiter = iter(trainloader)\n",
        "images, labels = next(dataiter)\n",
        "images.resize_(64, 1, 784)\n",
        "img_idx = 0\n",
        "ps = models.forward(images[img_idx,:])\n",
        "img = images[img_idx]\n",
        "view_classify(img.view(1, 28, 28), ps) # Call the locally defined view_classify function"
      ],
      "metadata": {
        "colab": {
          "base_uri": "https://localhost:8080/",
          "height": 344
        },
        "id": "LbEWbUHmzHYb",
        "outputId": "c2d90291-550e-4d51-e3d7-7cc50842b9c8"
      },
      "execution_count": 49,
      "outputs": [
        {
          "output_type": "display_data",
          "data": {
            "text/plain": [
              "<Figure size 600x900 with 2 Axes>"
            ],
            "image/png": "[encoded data removed]"
          },
          "metadata": {
            "image/png": {
              "width": 589,
              "height": 327
            }
          }
        }
      ]
    }
  ],
  "metadata": {
    "colab": {
      "provenance": [],
      "authorship_tag": "ABX9TyN72gBeIcEnuGs2+Pr6LjlD",
      "include_colab_link": true
    },
    "kernelspec": {
      "display_name": "Python 3",
      "name": "python3"
    },
    "language_info": {
      "name": "python"
    }
  },
  "nbformat": 4,
  "nbformat_minor": 0
}